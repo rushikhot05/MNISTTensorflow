{
  "nbformat": 4,
  "nbformat_minor": 0,
  "metadata": {
    "colab": {
      "name": "MNISTTensorflow.ipynb",
      "version": "0.3.2",
      "provenance": []
    },
    "kernelspec": {
      "name": "python3",
      "display_name": "Python 3"
    },
    "accelerator": "GPU"
  },
  "cells": [
    {
      "cell_type": "code",
      "metadata": {
        "id": "zR0z8sXs7Vly",
        "colab_type": "code",
        "colab": {}
      },
      "source": [
        "import tensorflow as tf\n",
        "import numpy as np\n",
        "import matplotlib.pyplot as plt"
      ],
      "execution_count": 0,
      "outputs": []
    },
    {
      "cell_type": "code",
      "metadata": {
        "id": "mE-bRnfU7jlh",
        "colab_type": "code",
        "colab": {}
      },
      "source": [
        "mnist=tf.keras.datasets.mnist"
      ],
      "execution_count": 0,
      "outputs": []
    },
    {
      "cell_type": "code",
      "metadata": {
        "id": "4bV0ht789LMn",
        "colab_type": "code",
        "colab": {
          "base_uri": "https://localhost:8080/",
          "height": 51
        },
        "outputId": "ba987b89-578d-439f-8939-e83f5a08024b"
      },
      "source": [
        "(X_train, Y_train),(X_test, Y_test) = mnist.load_data()"
      ],
      "execution_count": 3,
      "outputs": [
        {
          "output_type": "stream",
          "text": [
            "Downloading data from https://storage.googleapis.com/tensorflow/tf-keras-datasets/mnist.npz\n",
            "11493376/11490434 [==============================] - 0s 0us/step\n"
          ],
          "name": "stdout"
        }
      ]
    },
    {
      "cell_type": "code",
      "metadata": {
        "id": "wa9_2toZ9S6p",
        "colab_type": "code",
        "colab": {}
      },
      "source": [
        "X_train = tf.keras.utils.normalize(X_train, axis=1)\n",
        "X_test = tf.keras.utils.normalize(X_test, axis=1)"
      ],
      "execution_count": 0,
      "outputs": []
    },
    {
      "cell_type": "code",
      "metadata": {
        "id": "9n1jVCHI9kaB",
        "colab_type": "code",
        "colab": {
          "base_uri": "https://localhost:8080/",
          "height": 269
        },
        "outputId": "fea7435e-beca-40e0-9441-b3936013e534"
      },
      "source": [
        "plt.imshow(X_train[0])\n",
        "plt.show()"
      ],
      "execution_count": 5,
      "outputs": [
        {
          "output_type": "display_data",
          "data": {
            "image/png": "[encoded data removed]",
            "text/plain": [
              "<Figure size 432x288 with 1 Axes>"
            ]
          },
          "metadata": {
            "tags": []
          }
        }
      ]
    },
    {
      "cell_type": "code",
      "metadata": {
        "id": "GieE2ONB9qTq",
        "colab_type": "code",
        "colab": {
          "base_uri": "https://localhost:8080/",
          "height": 105
        },
        "outputId": "44a2537f-1442-463f-c565-14bd29bcfd0a"
      },
      "source": [
        "model = tf.keras.models.Sequential()\n",
        "model.add(tf.keras.layers.Flatten())\n",
        "model.add(tf.keras.layers.Dense(128, activation=tf.nn.relu))\n",
        "model.add(tf.keras.layers.Dense(128, activation=tf.nn.relu))\n",
        "model.add(tf.keras.layers.Dense(10, activation=tf.nn.softmax))"
      ],
      "execution_count": 7,
      "outputs": [
        {
          "output_type": "stream",
          "text": [
            "WARNING: Logging before flag parsing goes to stderr.\n",
            "W0713 06:16:14.898949 140686528829312 deprecation.py:506] From /usr/local/lib/python3.6/dist-packages/tensorflow/python/ops/init_ops.py:1251: calling VarianceScaling.__init__ (from tensorflow.python.ops.init_ops) with dtype is deprecated and will be removed in a future version.\n",
            "Instructions for updating:\n",
            "Call initializer instance with the dtype argument instead of passing it to the constructor\n"
          ],
          "name": "stderr"
        }
      ]
    },
    {
      "cell_type": "code",
      "metadata": {
        "id": "oMs9fZcG-Xg1",
        "colab_type": "code",
        "colab": {}
      },
      "source": [
        "model.compile(loss='sparse_categorical_crossentropy', optimizer='adam', metrics=['accuracy'])"
      ],
      "execution_count": 0,
      "outputs": []
    },
    {
      "cell_type": "code",
      "metadata": {
        "id": "NT8hJc5O_Apn",
        "colab_type": "code",
        "colab": {
          "base_uri": "https://localhost:8080/",
          "height": 204
        },
        "outputId": "6a060078-96ef-4690-ef65-6b20f43e8c7c"
      },
      "source": [
        "model.fit(X_train, Y_train, epochs=5)"
      ],
      "execution_count": 9,
      "outputs": [
        {
          "output_type": "stream",
          "text": [
            "Epoch 1/5\n",
            "60000/60000 [==============================] - 7s 111us/sample - loss: 0.2691 - acc: 0.9220\n",
            "Epoch 2/5\n",
            "60000/60000 [==============================] - 6s 100us/sample - loss: 0.1115 - acc: 0.9655\n",
            "Epoch 3/5\n",
            "60000/60000 [==============================] - 6s 98us/sample - loss: 0.0743 - acc: 0.9768\n",
            "Epoch 4/5\n",
            "60000/60000 [==============================] - 6s 97us/sample - loss: 0.0557 - acc: 0.9821\n",
            "Epoch 5/5\n",
            "60000/60000 [==============================] - 6s 98us/sample - loss: 0.0431 - acc: 0.9858\n"
          ],
          "name": "stdout"
        },
        {
          "output_type": "execute_result",
          "data": {
            "text/plain": [
              "<tensorflow.python.keras.callbacks.History at 0x7ff3d4a2ddd8>"
            ]
          },
          "metadata": {
            "tags": []
          },
          "execution_count": 9
        }
      ]
    },
    {
      "cell_type": "code",
      "metadata": {
        "id": "Cmq3G2ge_HyH",
        "colab_type": "code",
        "colab": {
          "base_uri": "https://localhost:8080/",
          "height": 34
        },
        "outputId": "c91bd2d7-27e4-4cf8-8e04-12d2ca54acb7"
      },
      "source": [
        "val_loss, val_accuracy = model.evaluate(X_test, Y_test)"
      ],
      "execution_count": 10,
      "outputs": [
        {
          "output_type": "stream",
          "text": [
            "10000/10000 [==============================] - 1s 62us/sample - loss: 0.0971 - acc: 0.9732\n"
          ],
          "name": "stdout"
        }
      ]
    },
    {
      "cell_type": "code",
      "metadata": {
        "id": "uWc50mE0_uWC",
        "colab_type": "code",
        "colab": {}
      },
      "source": [
        "prediction = model.predict([X_test])"
      ],
      "execution_count": 0,
      "outputs": []
    },
    {
      "cell_type": "code",
      "metadata": {
        "id": "tUzuTNRD_01p",
        "colab_type": "code",
        "colab": {
          "base_uri": "https://localhost:8080/",
          "height": 238
        },
        "outputId": "2248fc7b-f345-4440-942e-e3b60dced3dd"
      },
      "source": [
        "prediction"
      ],
      "execution_count": 12,
      "outputs": [
        {
          "output_type": "execute_result",
          "data": {
            "text/plain": [
              "array([[6.8006109e-12, 1.8912831e-09, 1.7393996e-09, ..., 9.9999964e-01,\n",
              "        4.2936057e-10, 1.3547712e-07],\n",
              "       [1.2674865e-10, 1.5734471e-05, 9.9998415e-01, ..., 3.8885211e-09,\n",
              "        1.4218161e-09, 6.2245348e-14],\n",
              "       [9.5671304e-10, 9.9987364e-01, 1.0912496e-06, ..., 1.2087006e-04,\n",
              "        2.9655448e-07, 1.6968142e-08],\n",
              "       ...,\n",
              "       [1.0054838e-10, 2.3166480e-07, 2.4101815e-10, ..., 5.6189449e-05,\n",
              "        2.6982999e-08, 1.3454619e-04],\n",
              "       [1.3591335e-06, 1.4782556e-07, 8.5748661e-07, ..., 1.0555009e-07,\n",
              "        1.4980584e-04, 1.8749218e-09],\n",
              "       [3.7536252e-06, 5.8537712e-09, 4.6095320e-06, ..., 1.4440425e-10,\n",
              "        5.6700128e-07, 1.2654767e-09]], dtype=float32)"
            ]
          },
          "metadata": {
            "tags": []
          },
          "execution_count": 12
        }
      ]
    },
    {
      "cell_type": "code",
      "metadata": {
        "id": "o1txblCz_3zl",
        "colab_type": "code",
        "colab": {
          "base_uri": "https://localhost:8080/",
          "height": 34
        },
        "outputId": "8214d4c7-bfc8-4408-c10f-762e895285cf"
      },
      "source": [
        "print(np.argmax(prediction[10]))"
      ],
      "execution_count": 14,
      "outputs": [
        {
          "output_type": "stream",
          "text": [
            "0\n"
          ],
          "name": "stdout"
        }
      ]
    },
    {
      "cell_type": "code",
      "metadata": {
        "id": "36UBZ0VgAAAN",
        "colab_type": "code",
        "colab": {
          "base_uri": "https://localhost:8080/",
          "height": 286
        },
        "outputId": "35c118b6-6bad-41b6-937c-edb3ca4f9f61"
      },
      "source": [
        "plt.imshow(X_test[10])"
      ],
      "execution_count": 15,
      "outputs": [
        {
          "output_type": "execute_result",
          "data": {
            "text/plain": [
              "<matplotlib.image.AxesImage at 0x7ff3ff6de9e8>"
            ]
          },
          "metadata": {
            "tags": []
          },
          "execution_count": 15
        },
        {
          "output_type": "display_data",
          "data": {
            "image/png": "[encoded data removed]",
            "text/plain": [
              "<Figure size 432x288 with 1 Axes>"
            ]
          },
          "metadata": {
            "tags": []
          }
        }
      ]
    },
    {
      "cell_type": "code",
      "metadata": {
        "id": "byb-eoTUAI9H",
        "colab_type": "code",
        "colab": {}
      },
      "source": [
        ""
      ],
      "execution_count": 0,
      "outputs": []
    }
  ]
}